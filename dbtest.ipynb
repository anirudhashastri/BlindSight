{
 "cells": [
  {
   "cell_type": "code",
   "execution_count": 1,
   "metadata": {},
   "outputs": [],
   "source": [
    "import os\n",
    "import pandas as pd\n",
    "from tqdm import tqdm"
   ]
  },
  {
   "cell_type": "code",
   "execution_count": 2,
   "metadata": {},
   "outputs": [],
   "source": [
    "\n",
    "\n",
    "def list_files(drive_letters):\n",
    "    # Initialize list to store file information\n",
    "    files_data = []\n",
    "\n",
    "    # Traverse each drive specified\n",
    "    for drive in drive_letters:\n",
    "        # Define the drive path (e.g., \"C:\\\\\")\n",
    "        drive_path = f\"{drive}:/\"\n",
    "\n",
    "        # Walk through all directories and files in the drive\n",
    "        for root, dirs, files in tqdm(os.walk(drive_path), desc=f\"Scanning {drive}:\\\\\"):\n",
    "            for file in files:\n",
    "                # Get full file path\n",
    "                file_path = os.path.join(root, file)\n",
    "                # Get file extension/type\n",
    "                file_type = os.path.splitext(file)[1][1:]  # Remove the dot\n",
    "\n",
    "                # Append file information\n",
    "                files_data.append({\n",
    "                    \"File name\": file,\n",
    "                    \"Drive\": drive,\n",
    "                    \"filetype\": file_type,\n",
    "                    \"Path\": file_path\n",
    "                })\n",
    "\n",
    "    # Create DataFrame\n",
    "    files_df = pd.DataFrame(files_data)\n",
    "\n",
    "    # Display the DataFrame\n",
    "    return files_df\n",
    "\n",
    "\n"
   ]
  },
  {
   "cell_type": "code",
   "execution_count": 3,
   "metadata": {},
   "outputs": [
    {
     "name": "stderr",
     "output_type": "stream",
     "text": [
      "Scanning e:\\: 1477it [00:01, 1169.50it/s]\n"
     ]
    }
   ],
   "source": [
    "# Define the drives to scan (e.g., C and D)\n",
    "drives_to_scan = ['e']\n",
    "files_list = list_files(drives_to_scan)\n",
    "\n"
   ]
  },
  {
   "cell_type": "code",
   "execution_count": 4,
   "metadata": {},
   "outputs": [
    {
     "data": {
      "text/html": [
       "<div>\n",
       "<style scoped>\n",
       "    .dataframe tbody tr th:only-of-type {\n",
       "        vertical-align: middle;\n",
       "    }\n",
       "\n",
       "    .dataframe tbody tr th {\n",
       "        vertical-align: top;\n",
       "    }\n",
       "\n",
       "    .dataframe thead th {\n",
       "        text-align: right;\n",
       "    }\n",
       "</style>\n",
       "<table border=\"1\" class=\"dataframe\">\n",
       "  <thead>\n",
       "    <tr style=\"text-align: right;\">\n",
       "      <th></th>\n",
       "      <th>File name</th>\n",
       "      <th>Drive</th>\n",
       "      <th>filetype</th>\n",
       "      <th>Path</th>\n",
       "    </tr>\n",
       "  </thead>\n",
       "  <tbody>\n",
       "    <tr>\n",
       "      <th>0</th>\n",
       "      <td>file_index.db</td>\n",
       "      <td>e</td>\n",
       "      <td>db</td>\n",
       "      <td>e:/file_index.db</td>\n",
       "    </tr>\n",
       "    <tr>\n",
       "      <th>1</th>\n",
       "      <td>$I3WD28G.db</td>\n",
       "      <td>e</td>\n",
       "      <td>db</td>\n",
       "      <td>e:/$RECYCLE.BIN\\S-1-5-21-913249890-2184741095-...</td>\n",
       "    </tr>\n",
       "    <tr>\n",
       "      <th>2</th>\n",
       "      <td>$I93WRZD.ipynb</td>\n",
       "      <td>e</td>\n",
       "      <td>ipynb</td>\n",
       "      <td>e:/$RECYCLE.BIN\\S-1-5-21-913249890-2184741095-...</td>\n",
       "    </tr>\n",
       "    <tr>\n",
       "      <th>3</th>\n",
       "      <td>$IDMJE6M.pkl</td>\n",
       "      <td>e</td>\n",
       "      <td>pkl</td>\n",
       "      <td>e:/$RECYCLE.BIN\\S-1-5-21-913249890-2184741095-...</td>\n",
       "    </tr>\n",
       "    <tr>\n",
       "      <th>4</th>\n",
       "      <td>$IEIGES8.ipynb</td>\n",
       "      <td>e</td>\n",
       "      <td>ipynb</td>\n",
       "      <td>e:/$RECYCLE.BIN\\S-1-5-21-913249890-2184741095-...</td>\n",
       "    </tr>\n",
       "    <tr>\n",
       "      <th>...</th>\n",
       "      <td>...</td>\n",
       "      <td>...</td>\n",
       "      <td>...</td>\n",
       "      <td>...</td>\n",
       "    </tr>\n",
       "    <tr>\n",
       "      <th>120736</th>\n",
       "      <td>num_blobs.pkl</td>\n",
       "      <td>e</td>\n",
       "      <td>pkl</td>\n",
       "      <td>e:/Unravel\\test\\20220405-WT-Day15-20220420EG\\T...</td>\n",
       "    </tr>\n",
       "    <tr>\n",
       "      <th>120737</th>\n",
       "      <td>radial_dist_px.pkl</td>\n",
       "      <td>e</td>\n",
       "      <td>pkl</td>\n",
       "      <td>e:/Unravel\\test\\20220405-WT-Day15-20220420EG\\T...</td>\n",
       "    </tr>\n",
       "    <tr>\n",
       "      <th>120738</th>\n",
       "      <td>theta.pkl</td>\n",
       "      <td>e</td>\n",
       "      <td>pkl</td>\n",
       "      <td>e:/Unravel\\test\\20220405-WT-Day15-20220420EG\\T...</td>\n",
       "    </tr>\n",
       "    <tr>\n",
       "      <th>120739</th>\n",
       "      <td>total_blobarea_px.pkl</td>\n",
       "      <td>e</td>\n",
       "      <td>pkl</td>\n",
       "      <td>e:/Unravel\\test\\20220405-WT-Day15-20220420EG\\T...</td>\n",
       "    </tr>\n",
       "    <tr>\n",
       "      <th>120740</th>\n",
       "      <td>IDtrack.zip</td>\n",
       "      <td>e</td>\n",
       "      <td>zip</td>\n",
       "      <td>e:/Unravel\\test\\20220405-WT-Day15-20220420EG\\T...</td>\n",
       "    </tr>\n",
       "  </tbody>\n",
       "</table>\n",
       "<p>120741 rows × 4 columns</p>\n",
       "</div>"
      ],
      "text/plain": [
       "                    File name Drive filetype  \\\n",
       "0               file_index.db     e       db   \n",
       "1                 $I3WD28G.db     e       db   \n",
       "2              $I93WRZD.ipynb     e    ipynb   \n",
       "3                $IDMJE6M.pkl     e      pkl   \n",
       "4              $IEIGES8.ipynb     e    ipynb   \n",
       "...                       ...   ...      ...   \n",
       "120736          num_blobs.pkl     e      pkl   \n",
       "120737     radial_dist_px.pkl     e      pkl   \n",
       "120738              theta.pkl     e      pkl   \n",
       "120739  total_blobarea_px.pkl     e      pkl   \n",
       "120740            IDtrack.zip     e      zip   \n",
       "\n",
       "                                                     Path  \n",
       "0                                        e:/file_index.db  \n",
       "1       e:/$RECYCLE.BIN\\S-1-5-21-913249890-2184741095-...  \n",
       "2       e:/$RECYCLE.BIN\\S-1-5-21-913249890-2184741095-...  \n",
       "3       e:/$RECYCLE.BIN\\S-1-5-21-913249890-2184741095-...  \n",
       "4       e:/$RECYCLE.BIN\\S-1-5-21-913249890-2184741095-...  \n",
       "...                                                   ...  \n",
       "120736  e:/Unravel\\test\\20220405-WT-Day15-20220420EG\\T...  \n",
       "120737  e:/Unravel\\test\\20220405-WT-Day15-20220420EG\\T...  \n",
       "120738  e:/Unravel\\test\\20220405-WT-Day15-20220420EG\\T...  \n",
       "120739  e:/Unravel\\test\\20220405-WT-Day15-20220420EG\\T...  \n",
       "120740  e:/Unravel\\test\\20220405-WT-Day15-20220420EG\\T...  \n",
       "\n",
       "[120741 rows x 4 columns]"
      ]
     },
     "metadata": {},
     "output_type": "display_data"
    }
   ],
   "source": [
    "display(files_list)"
   ]
  },
  {
   "cell_type": "code",
   "execution_count": 5,
   "metadata": {},
   "outputs": [
    {
     "name": "stdout",
     "output_type": "stream",
     "text": [
      "Data saved as file_list.pkl\n"
     ]
    }
   ],
   "source": [
    "# Save the DataFrame to a pickle file\n",
    "files_list.to_pickle(\"file_list.pkl\")\n",
    "print(\"Data saved as file_list.pkl\")"
   ]
  },
  {
   "cell_type": "code",
   "execution_count": 11,
   "metadata": {},
   "outputs": [
    {
     "data": {
      "text/html": [
       "<div>\n",
       "<style scoped>\n",
       "    .dataframe tbody tr th:only-of-type {\n",
       "        vertical-align: middle;\n",
       "    }\n",
       "\n",
       "    .dataframe tbody tr th {\n",
       "        vertical-align: top;\n",
       "    }\n",
       "\n",
       "    .dataframe thead th {\n",
       "        text-align: right;\n",
       "    }\n",
       "</style>\n",
       "<table border=\"1\" class=\"dataframe\">\n",
       "  <thead>\n",
       "    <tr style=\"text-align: right;\">\n",
       "      <th></th>\n",
       "      <th>File name</th>\n",
       "      <th>Drive</th>\n",
       "      <th>filetype</th>\n",
       "      <th>Path</th>\n",
       "    </tr>\n",
       "  </thead>\n",
       "  <tbody>\n",
       "    <tr>\n",
       "      <th>7464</th>\n",
       "      <td>test.docx</td>\n",
       "      <td>e</td>\n",
       "      <td>docx</td>\n",
       "      <td>e:/AIHCI-Blind\\test\\test.docx</td>\n",
       "    </tr>\n",
       "  </tbody>\n",
       "</table>\n",
       "</div>"
      ],
      "text/plain": [
       "      File name Drive filetype                           Path\n",
       "7464  test.docx     e     docx  e:/AIHCI-Blind\\test\\test.docx"
      ]
     },
     "metadata": {},
     "output_type": "display_data"
    }
   ],
   "source": [
    "# search for test.docx in drive D file in the datafeame and display the results\n",
    "\n",
    "search_query = \"test.docx\"\n",
    "search_results = files_list[files_list[\"File name\"].str.contains(search_query, case=False)]\n",
    "display(search_results)"
   ]
  },
  {
   "cell_type": "code",
   "execution_count": 12,
   "metadata": {},
   "outputs": [
    {
     "data": {
      "text/html": [
       "<div>\n",
       "<style scoped>\n",
       "    .dataframe tbody tr th:only-of-type {\n",
       "        vertical-align: middle;\n",
       "    }\n",
       "\n",
       "    .dataframe tbody tr th {\n",
       "        vertical-align: top;\n",
       "    }\n",
       "\n",
       "    .dataframe thead th {\n",
       "        text-align: right;\n",
       "    }\n",
       "</style>\n",
       "<table border=\"1\" class=\"dataframe\">\n",
       "  <thead>\n",
       "    <tr style=\"text-align: right;\">\n",
       "      <th></th>\n",
       "      <th>File name</th>\n",
       "      <th>Drive</th>\n",
       "      <th>filetype</th>\n",
       "      <th>Path</th>\n",
       "    </tr>\n",
       "  </thead>\n",
       "  <tbody>\n",
       "  </tbody>\n",
       "</table>\n",
       "</div>"
      ],
      "text/plain": [
       "Empty DataFrame\n",
       "Columns: [File name, Drive, filetype, Path]\n",
       "Index: []"
      ]
     },
     "metadata": {},
     "output_type": "display_data"
    }
   ],
   "source": [
    "#search for test.docx in drive == E file in the datafeame and display the results\n",
    "file_name = \"test.docx\"\n",
    "search_results = files_list[(files_list[\"File name\"].str.contains(search_query, case=False)) & (files_list[\"Drive\"] == \"E\")]\n",
    "display(search_results)"
   ]
  },
  {
   "cell_type": "code",
   "execution_count": null,
   "metadata": {},
   "outputs": [],
   "source": []
  }
 ],
 "metadata": {
  "kernelspec": {
   "display_name": "AIHCI",
   "language": "python",
   "name": "python3"
  },
  "language_info": {
   "codemirror_mode": {
    "name": "ipython",
    "version": 3
   },
   "file_extension": ".py",
   "mimetype": "text/x-python",
   "name": "python",
   "nbconvert_exporter": "python",
   "pygments_lexer": "ipython3",
   "version": "3.10.15"
  }
 },
 "nbformat": 4,
 "nbformat_minor": 2
}
